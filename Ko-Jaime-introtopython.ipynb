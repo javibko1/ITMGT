{
 "cells": [
  {
   "cell_type": "code",
   "execution_count": 1,
   "metadata": {},
   "outputs": [
    {
     "name": "stdout",
     "output_type": "stream",
     "text": [
      "195577 Ko 2 BS ITE\n"
     ]
    }
   ],
   "source": [
    "print(\"195577 Ko 2 BS ITE\")"
   ]
  },
  {
   "cell_type": "code",
   "execution_count": 2,
   "metadata": {},
   "outputs": [
    {
     "name": "stdout",
     "output_type": "stream",
     "text": [
      "Enter the 1st number:10\n",
      "Enter the 2nd number:8\n",
      "Enter the 4rd number:9\n",
      "Average= 9.0\n"
     ]
    }
   ],
   "source": [
    "num1=int(input(\"Enter the 1st number:\"))\n",
    "num2=int(input(\"Enter the 2nd number:\"))\n",
    "num3=int(input(\"Enter the 4rd number:\"))\n",
    "average= (num1+num2+num3)/3\n",
    "\n",
    "print(\"Average=\", average)"
   ]
  },
  {
   "cell_type": "code",
   "execution_count": null,
   "metadata": {},
   "outputs": [],
   "source": []
  }
 ],
 "metadata": {
  "kernelspec": {
   "display_name": "Python 3",
   "language": "python",
   "name": "python3"
  },
  "language_info": {
   "codemirror_mode": {
    "name": "ipython",
    "version": 3
   },
   "file_extension": ".py",
   "mimetype": "text/x-python",
   "name": "python",
   "nbconvert_exporter": "python",
   "pygments_lexer": "ipython3",
   "version": "3.8.3"
  }
 },
 "nbformat": 4,
 "nbformat_minor": 4
}
