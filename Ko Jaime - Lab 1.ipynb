{
 "cells": [
  {
   "cell_type": "code",
   "execution_count": null,
   "metadata": {},
   "outputs": [],
   "source": []
  },
  {
   "cell_type": "code",
   "execution_count": 5,
   "metadata": {},
   "outputs": [
    {
     "name": "stdout",
     "output_type": "stream",
     "text": [
      "195577- Ko - 2 BS ITE\n"
     ]
    }
   ],
   "source": [
    "print(\"195577- Ko - 2 BS ITE\")"
   ]
  },
  {
   "cell_type": "code",
   "execution_count": 13,
   "metadata": {},
   "outputs": [
    {
     "name": "stdout",
     "output_type": "stream",
     "text": [
      "Enter the amount in US Dollars 10\n",
      "10.0 US dollar(s) = 485.0 Philippine Pesos\n"
     ]
    }
   ],
   "source": [
    "#Problem 1\n",
    "def dollars_to_pesos(USD):\n",
    "    return USD*48.5\n",
    "\n",
    "USD=float(input(\"Enter the amount in US Dollars \"))\n",
    "print(usd,\"US dollar(s) =\", dollars_to_pesos(usd),\"Philippine Pesos\")"
   ]
  },
  {
   "cell_type": "code",
   "execution_count": 14,
   "metadata": {},
   "outputs": [
    {
     "name": "stdout",
     "output_type": "stream",
     "text": [
      "Integer 1:10\n",
      "Integer 2:1\n",
      "11\n",
      "9\n",
      "10\n",
      "10\n",
      "0\n"
     ]
    }
   ],
   "source": [
    "#Problem 2\n",
    "a=int(input(\"Integer 1:\"))\n",
    "b=int(input(\"Integer 2:\"))\n",
    "\n",
    "print(a+b)\n",
    "print(a-b)\n",
    "print(a*b)\n",
    "print(a//b)\n",
    "print(a%b)\n"
   ]
  },
  {
   "cell_type": "code",
   "execution_count": 2,
   "metadata": {},
   "outputs": [
    {
     "name": "stdout",
     "output_type": "stream",
     "text": [
      "Enter kg:65\n",
      "Enter cm:170\n",
      "BMI: 22.49134948096886\n"
     ]
    }
   ],
   "source": [
    "#Problem 3 \n",
    "def compute_bmi(kg,m):\n",
    "    return kg/m**2\n",
    "\n",
    "def convert_cm_to_m(cm):\n",
    "    return cm/100\n",
    "\n",
    "kg=float(input(\"Enter kg:\"))\n",
    "cm=float(input(\"Enter cm:\"))\n",
    "m=convert_cm_to_m(cm)\n",
    "bmi=compute_bmi(kg,m)\n",
    "print(\"BMI:\",bmi)"
   ]
  },
  {
   "cell_type": "code",
   "execution_count": null,
   "metadata": {},
   "outputs": [],
   "source": []
  }
 ],
 "metadata": {
  "kernelspec": {
   "display_name": "Python 3",
   "language": "python",
   "name": "python3"
  },
  "language_info": {
   "codemirror_mode": {
    "name": "ipython",
    "version": 3
   },
   "file_extension": ".py",
   "mimetype": "text/x-python",
   "name": "python",
   "nbconvert_exporter": "python",
   "pygments_lexer": "ipython3",
   "version": "3.8.3"
  }
 },
 "nbformat": 4,
 "nbformat_minor": 4
}
